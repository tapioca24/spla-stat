{
 "cells": [
  {
   "attachments": {},
   "cell_type": "markdown",
   "metadata": {},
   "source": [
    "# バトル一覧を更新する\n",
    "\n",
    "- input\n",
    "  - ユーザー一覧 (`USER_DATA_PATH`)\n",
    "- output\n",
    "  - stat.ink から取得したバトル一覧の csv を指定パスに保存する"
   ]
  },
  {
   "attachments": {},
   "cell_type": "markdown",
   "metadata": {},
   "source": [
    "## Xマッチ"
   ]
  },
  {
   "cell_type": "code",
   "execution_count": null,
   "metadata": {},
   "outputs": [],
   "source": [
    "import src.scraping as s\n",
    "import src.constants as c\n",
    "\n",
    "s.update_battle_list(c.BATTLE_LIST_XMATCH_PATH, \"xmatch\", 5)\n"
   ]
  },
  {
   "cell_type": "markdown",
   "metadata": {},
   "source": [
    "## フェスマッチ（チャレンジ）\n"
   ]
  },
  {
   "cell_type": "code",
   "execution_count": null,
   "metadata": {},
   "outputs": [],
   "source": [
    "import src.scraping as s\n",
    "import src.constants as c\n",
    "\n",
    "s.update_battle_list(c.BATTLE_LIST_FEST_CHALLENGE_PATH, \"splatfest_challenge\", 5)\n"
   ]
  },
  {
   "cell_type": "markdown",
   "metadata": {},
   "source": [
    "## バンカラマッチ（チャレンジ）\n"
   ]
  },
  {
   "cell_type": "code",
   "execution_count": null,
   "metadata": {},
   "outputs": [],
   "source": [
    "import src.scraping as s\n",
    "import src.constants as c\n",
    "\n",
    "s.update_battle_list(c.BATTLE_LIST_BANKARA_CHALLENGE_PATH, \"bankara_challenge\", 5)\n"
   ]
  }
 ],
 "metadata": {
  "kernelspec": {
   "display_name": "Python 3.9.12 ('base')",
   "language": "python",
   "name": "python3"
  },
  "language_info": {
   "codemirror_mode": {
    "name": "ipython",
    "version": 3
   },
   "file_extension": ".py",
   "mimetype": "text/x-python",
   "name": "python",
   "nbconvert_exporter": "python",
   "pygments_lexer": "ipython3",
   "version": "3.9.13"
  },
  "orig_nbformat": 4,
  "vscode": {
   "interpreter": {
    "hash": "d4d1e4263499bec80672ea0156c357c1ee493ec2b1c70f0acce89fc37c4a6abe"
   }
  }
 },
 "nbformat": 4,
 "nbformat_minor": 2
}
