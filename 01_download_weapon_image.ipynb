{
 "cells": [
  {
   "attachments": {},
   "cell_type": "markdown",
   "metadata": {},
   "source": [
    "# 画像データをダウンロードする\n",
    "\n",
    "- input\n",
    "  - メインウェポンの一覧 (`SOURCE_MAIN_PATH`)\n",
    "  - サブウェポンの一覧 (`SOURCE_SUB_PATH`)\n",
    "  - スペシャルウェポンの一覧 (`SOURCE_SPECIAL_PATH`)\n",
    "- output\n",
    "  - stat.ink から画像をダウンロードし `IMAGES_DIR` に保存する\n"
   ]
  },
  {
   "cell_type": "code",
   "execution_count": 2,
   "metadata": {},
   "outputs": [],
   "source": [
    "import src.scraping as s\n",
    "\n",
    "s.update_source_images(5)"
   ]
  }
 ],
 "metadata": {
  "kernelspec": {
   "display_name": "Python 3.9.12 ('base')",
   "language": "python",
   "name": "python3"
  },
  "language_info": {
   "codemirror_mode": {
    "name": "ipython",
    "version": 3
   },
   "file_extension": ".py",
   "mimetype": "text/x-python",
   "name": "python",
   "nbconvert_exporter": "python",
   "pygments_lexer": "ipython3",
   "version": "3.9.13 (main, Aug 25 2022, 23:29:09) \n[GCC 11.2.0]"
  },
  "orig_nbformat": 4,
  "vscode": {
   "interpreter": {
    "hash": "d4d1e4263499bec80672ea0156c357c1ee493ec2b1c70f0acce89fc37c4a6abe"
   }
  }
 },
 "nbformat": 4,
 "nbformat_minor": 2
}
