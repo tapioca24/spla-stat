{
 "cells": [
  {
   "attachments": {},
   "cell_type": "markdown",
   "metadata": {},
   "source": [
    "# バトル詳細を更新する\n",
    "\n",
    "- input\n",
    "  - バトル一覧\n",
    "- output\n",
    "  - stat.ink から取得したバトル詳細の csv を指定パスに保存する\n",
    "\n"
   ]
  },
  {
   "cell_type": "markdown",
   "metadata": {},
   "source": [
    "## Xマッチ"
   ]
  },
  {
   "cell_type": "code",
   "execution_count": 7,
   "metadata": {},
   "outputs": [
    {
     "data": {
      "text/plain": [
       "(2803, 5)"
      ]
     },
     "execution_count": 7,
     "metadata": {},
     "output_type": "execute_result"
    }
   ],
   "source": [
    "import datetime as dt\n",
    "import pandas as pd\n",
    "import src.scraping as s\n",
    "import src.constants as c\n",
    "\n",
    "rule = \"area\"\n",
    "start_date = dt.datetime(2022, 12, 1, tzinfo=s.TZ_JST)\n",
    "end_date = dt.datetime(2022, 12, 8, tzinfo=s.TZ_JST)\n",
    "\n",
    "battles = pd.read_csv(c.BATTLE_LIST_XMATCH_PATH)\n",
    "battles[\"Datetime\"] = pd.to_datetime(battles[\"Datetime\"])\n",
    "battles = battles[~battles[\"Disconnected\"]]\n",
    "battles = battles[battles[\"Rule\"] == rule]\n",
    "battles = battles[(battles[\"Datetime\"] >= start_date) & (battles[\"Datetime\"] < end_date)]\n",
    "# battles = battles[::2]\n",
    "battles.shape\n",
    "\n"
   ]
  },
  {
   "cell_type": "code",
   "execution_count": null,
   "metadata": {},
   "outputs": [],
   "source": [
    "s.update_battle_details(\n",
    "    battles,\n",
    "    f\"{c.DATA_DIR}/details_xmatch_221201_221207_{rule}.csv\",\n",
    "    5\n",
    ")\n"
   ]
  },
  {
   "cell_type": "markdown",
   "metadata": {},
   "source": [
    "## フェスマッチ（チャレンジ）"
   ]
  },
  {
   "cell_type": "markdown",
   "metadata": {},
   "source": [
    "## バンカラマッチ（チャレンジ）"
   ]
  }
 ],
 "metadata": {
  "kernelspec": {
   "display_name": "Python 3.9.12 ('base')",
   "language": "python",
   "name": "python3"
  },
  "language_info": {
   "codemirror_mode": {
    "name": "ipython",
    "version": 3
   },
   "file_extension": ".py",
   "mimetype": "text/x-python",
   "name": "python",
   "nbconvert_exporter": "python",
   "pygments_lexer": "ipython3",
   "version": "3.9.13 (main, Aug 25 2022, 23:29:09) \n[GCC 11.2.0]"
  },
  "orig_nbformat": 4,
  "vscode": {
   "interpreter": {
    "hash": "d4d1e4263499bec80672ea0156c357c1ee493ec2b1c70f0acce89fc37c4a6abe"
   }
  }
 },
 "nbformat": 4,
 "nbformat_minor": 2
}
