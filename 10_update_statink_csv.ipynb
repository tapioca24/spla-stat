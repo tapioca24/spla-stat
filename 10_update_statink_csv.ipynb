{
 "cells": [
  {
   "attachments": {},
   "cell_type": "markdown",
   "metadata": {},
   "source": [
    "# stat.ink から csv を取得する\n",
    "\n",
    "すでに取得済みのファイルは新たに取得しない"
   ]
  },
  {
   "cell_type": "code",
   "execution_count": 1,
   "metadata": {},
   "outputs": [
    {
     "name": "stdout",
     "output_type": "stream",
     "text": [
      "request to /splatoon-3/battle-results-csv/\n",
      "request to /splatoon-3/battle-results-csv/2022/\n",
      "request to /splatoon-3/battle-results-csv/2022/09/\n",
      "request to /splatoon-3/battle-results-csv/2022/10/\n",
      "request to /splatoon-3/battle-results-csv/2022/11/\n",
      "request to /splatoon-3/battle-results-csv/2022/12/\n",
      "(1/2) download https://dl-stats.stat.ink/splatoon-3/battle-results-csv/2022/09/2022-09-26.csv\n",
      "(2/2) download https://dl-stats.stat.ink/splatoon-3/battle-results-csv/2022/09/2022-09-27.csv\n"
     ]
    }
   ],
   "source": [
    "import src.scraping2 as s2\n",
    "\n",
    "s2.update_csv_files(3)"
   ]
  }
 ],
 "metadata": {
  "kernelspec": {
   "display_name": "base",
   "language": "python",
   "name": "python3"
  },
  "language_info": {
   "codemirror_mode": {
    "name": "ipython",
    "version": 3
   },
   "file_extension": ".py",
   "mimetype": "text/x-python",
   "name": "python",
   "nbconvert_exporter": "python",
   "pygments_lexer": "ipython3",
   "version": "3.9.13"
  },
  "orig_nbformat": 4,
  "vscode": {
   "interpreter": {
    "hash": "d4d1e4263499bec80672ea0156c357c1ee493ec2b1c70f0acce89fc37c4a6abe"
   }
  }
 },
 "nbformat": 4,
 "nbformat_minor": 2
}
